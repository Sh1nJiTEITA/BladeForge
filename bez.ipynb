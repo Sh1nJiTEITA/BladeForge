{
 "cells": [
  {
   "cell_type": "code",
   "execution_count": 1,
   "metadata": {},
   "outputs": [],
   "source": [
    "import matplotlib.pyplot as plt\n",
    "import numpy as np\n"
   ]
  },
  {
   "cell_type": "code",
   "execution_count": 2,
   "metadata": {},
   "outputs": [],
   "source": [
    "class dot:\n",
    "    def __init__(self, x:int, y:int):\n",
    "        self.x = x\n",
    "        self.y = y\n",
    "        \n",
    "    def __str__(self):\n",
    "        return f\"dot({self.x}, {self.y})\"\n",
    "        \n",
    "        \n",
    "def get_dots_lists(input_dots):\n",
    "    x_list = []\n",
    "    y_list = []\n",
    "    \n",
    "    for dot in input_dots:\n",
    "        x_list.append(dot.x)\n",
    "        y_list.append(dot.y)\n",
    "        \n",
    "    return x_list, y_list\n",
    "    \n"
   ]
  },
  {
   "cell_type": "code",
   "execution_count": 3,
   "metadata": {},
   "outputs": [],
   "source": [
    "enter_dots = [\n",
    "    dot(1, 1),\n",
    "    dot(2, 2)\n",
    "]\n",
    "\n",
    "move_dot = dot(1.7, 1.2)"
   ]
  },
  {
   "cell_type": "code",
   "execution_count": 4,
   "metadata": {},
   "outputs": [],
   "source": [
    "class line:\n",
    "    def __init__(self, k, b):\n",
    "        self.k = k\n",
    "        self.b = b\n",
    "    \n",
    "    def __init__(self, d1:dot, d2:dot):\n",
    "        self.k, self.b = self.cal_k_b(d1, d2)\n",
    "        \n",
    "    def y(self, x:float):\n",
    "        return self.k * x + self.b\n",
    "    \n",
    "    def len(self, x1:float, x2:float):\n",
    "        y1 = self.y(x1)\n",
    "        y2 = self.y(x2)\n",
    "        \n",
    "        return np.sqrt( (x2 - x1)**2 + (y2 - y1)**2 )\n",
    "        \n",
    "    def cal_k_b(self, d1:dot, d2:dot):\n",
    "        k = (d1.y - d2.y) / (d1.x - d2.x)\n",
    "        b = d2.y - d2.x * k\n",
    "        return k, b\n",
    "\n",
    "class final_line(line):\n",
    "    def __init__(self, d1, d2):\n",
    "        self.k, self.b = self.cal_k_b(d1, d2)\n",
    "        self.d1 = d1\n",
    "        self.d2 = d2\n",
    "    \n",
    "    def is_x_inside(self, x:float) ->bool:\n",
    "        if (((self.d1.x <= x)and(x <= self.d2.x)) or ((self.d2.x <= x)and(x <= self.d1.x))):\n",
    "            return True\n",
    "        else:\n",
    "            return False\n",
    "    \n",
    "    def is_y_inside(self, y:float) ->bool:\n",
    "        if (((self.d1.y <= y)and(y <= self.d2.y)) or ((self.d2.y <= y)and(y <= self.d1.y))):\n",
    "            return True\n",
    "        else:\n",
    "            return False\n",
    "    \n",
    "    def is_dot_inside(self, d:dot) -> bool:    \n",
    "        return (self.is_x_inside(d.x) and self.is_y_inside(d.y))\n",
    "    \n",
    "    def len(self):\n",
    "        return np.sqrt( (self.d1.x - self.d2.x)**2 + (self.d1.y - self.d2.y)**2 )\n",
    "    \n",
    "    def get_coo_by_per(self, per:float):\n",
    "        line_len = self.len()\n",
    "        \n",
    "        line_per = line_len * per\n",
    "        \n",
    "        x_len = line_per / (np.sqrt(1 + self.k**2))\n",
    "        \n",
    "        y_len = x_len * self.k\n",
    "        \n",
    "        \n",
    "        \n",
    "        #print(\"k:\",self.k)\n",
    "        \n",
    "        return dot(self.d1.x + x_len, self.d1.y + y_len)\n",
    "        \n",
    "        \n",
    "    "
   ]
  },
  {
   "cell_type": "code",
   "execution_count": 5,
   "metadata": {},
   "outputs": [],
   "source": [
    "class bez_1:\n",
    "    def __init__(self, sd:dot, ed:dot, vd:dot):\n",
    "        self.sd = sd\n",
    "        self.ed = ed\n",
    "        self.vd = vd\n",
    "        \n",
    "        self.fline_1 = final_line(sd, vd)\n",
    "        self.fline_2 = final_line(vd, ed)\n",
    "        \n",
    "    def get_bez_xy_step(self, step:int, ax):\n",
    "        \n",
    "        x = []\n",
    "        y = []\n",
    "        \n",
    "        for i in np.arange(0, 1.1, step):\n",
    "        #for i in range(0, 100, 10):\n",
    "            tem_d1 = self.fline_1.get_coo_by_per(i)\n",
    "            tem_d2 = self.fline_2.get_coo_by_per(i)\n",
    "            \n",
    "            tem_line = final_line(tem_d1, tem_d2)\n",
    "            \n",
    "            x.append(tem_line.get_coo_by_per(i).x)\n",
    "            y.append(tem_line.get_coo_by_per(i).y)\n",
    "            ax.plot([tem_line.d1.x, tem_line.d2.x], [tem_line.d1.y, tem_line.d2.y], color = \"green\")\n",
    "        \n",
    "        return x, y\n",
    "        "
   ]
  },
  {
   "cell_type": "code",
   "execution_count": 6,
   "metadata": {},
   "outputs": [
    {
     "data": {
      "text/plain": [
       "0.7280109889280517"
      ]
     },
     "execution_count": 6,
     "metadata": {},
     "output_type": "execute_result"
    },
    {
     "data": {
      "image/png": "[encoded data removed]",
      "text/plain": [
       "<Figure size 640x480 with 1 Axes>"
      ]
     },
     "metadata": {},
     "output_type": "display_data"
    }
   ],
   "source": [
    "fig, ax = plt.subplots()\n",
    "\n",
    "\n",
    "dots_x, dots_y = get_dots_lists(enter_dots)\n",
    "\n",
    "# Start dots\n",
    "ax.plot(dots_x, dots_y, 'o')\n",
    "\n",
    "# Moveable dot\n",
    "#ax.plot(move_dot.x, move_dot.y, 'o', color = \"orange\")\n",
    "\n",
    "\n",
    "# Test dots\n",
    "#test_dot_1 = get_linear_coo_by_percent(enter_dots[0], move_dot, 0.8)\n",
    "#ax.plot(test_dot_1.x, test_dot_1.y, 'o', color = \"purple\")\n",
    "\n",
    "fl1 = final_line(enter_dots[0], move_dot)\n",
    "fl2 = final_line(move_dot, enter_dots[1])\n",
    "\n",
    "pers = 0.5\n",
    "\n",
    "fl_dot1 = fl1.get_coo_by_per(pers)\n",
    "fl_dot2 = fl2.get_coo_by_per(pers)\n",
    "\n",
    "flm = final_line(fl_dot1, fl_dot2)\n",
    "fl_dotm = flm.get_coo_by_per(pers)\n",
    "\n",
    "#ax.plot(fl_dot1.x, fl_dot1.y, 'o', color = \"green\")\n",
    "#ax.plot(fl_dot2.x, fl_dot2.y, 'o', color = \"green\")\n",
    "#ax.plot(fl_dotm.x, fl_dotm.y, 'o', color = \"green\")\n",
    "\n",
    "#ax.plot([fl1.d1.x, fl1.d2.x], [fl1.d1.y, fl1.d2.y])\n",
    "#ax.plot([fl2.d1.x, fl2.d2.x], [fl2.d1.y, fl2.d2.y])\n",
    "#ax.plot([flm.d1.x, flm.d2.x], [flm.d1.y, flm.d2.y])\n",
    "\n",
    "#bez = bez_1(enter_dots[0], enter_dots[1], move_dot)\n",
    "#bez_x, bez_y = bez.get_bez_xy_step(0.10)\n",
    "#ax.plot(bez_x, bez_y)\n",
    "\n",
    "\n",
    "\n",
    "move_dot2 = dot(move_dot.x + 0.5, move_dot.y + 0.5)\n",
    "bez = bez_1(enter_dots[0], enter_dots[1], move_dot2)\n",
    "ax.plot(move_dot2.x, move_dot2.y, 'o', color = \"red\")\n",
    "bez_x, bez_y = bez.get_bez_xy_step(0.2,ax)\n",
    "ax.plot(bez_x, bez_y)\n",
    "\n",
    "\n",
    "ax.plot([bez.fline_1.d1.x, bez.fline_1.d2.x], [bez.fline_1.d1.y, bez.fline_1.d2.y])\n",
    "ax.plot([bez.fline_2.d1.x, bez.fline_2.d2.x], [bez.fline_2.d1.y, bez.fline_2.d2.y])\n",
    "\n",
    "\n",
    "str(fl1.d1), str(fl1.d2)\n",
    "fl1.len()"
   ]
  },
  {
   "cell_type": "code",
   "execution_count": 7,
   "metadata": {},
   "outputs": [
    {
     "name": "stdout",
     "output_type": "stream",
     "text": [
      "0.07280109889280517\n"
     ]
    }
   ],
   "source": [
    "print(np.sqrt(0.019999999999999993**2 + 0.06999999999999999**2))"
   ]
  },
  {
   "cell_type": "markdown",
   "metadata": {},
   "source": [
    "!!!!!!!!!!!\n"
   ]
  },
  {
   "cell_type": "code",
   "execution_count": 20,
   "metadata": {},
   "outputs": [],
   "source": [
    "xy = [\n",
    "    (0, 0), (8e-06, 0.001184), (6.4e-05, 0.004672), (0.000216, 0.010368), (0.000512, 0.018176), (0.001, 0.028), (0.001728, 0.039744), (0.002744, 0.053312), (0.004096, 0.068608), (0.005832, 0.085536), (0.008, 0.104), (0.010648, 0.123904), (0.013824, 0.145152), (0.017576, 0.167648), (0.021952, 0.191296), (0.027, 0.216), (0.032768, 0.241664), (0.039304, 0.268192), (0.046656, 0.295488), (0.054872, 0.323456), (0.064, 0.352), (0.074088, 0.381024), (0.085184, 0.410432), (0.097336, 0.440128), (0.110592, 0.470016), (0.125, 0.5), (0.140608, 0.529984), (0.157464, 0.559872), (0.175616, 0.589568), (0.195112, 0.618976), (0.216, 0.648), (0.238328, 0.676544), (0.262144, 0.704512), (0.287496, 0.731808), (0.314432, 0.758336), (0.343, 0.784), (0.373248, 0.808704), (0.405224, 0.832352), (0.438976, 0.854848), (0.474552, 0.876096), (0.512, 0.896), (0.551368, 0.914464), (0.592704, 0.931392), (0.636056, 0.946688), (0.681472, 0.960256), (0.729, 0.972), (0.778688, 0.981824), (0.830584, 0.989632), (0.884736, 0.995328), (0.941192, 0.998816), (1, 1)\n",
    "]\n",
    "\n",
    "x = []\n",
    "y = []\n",
    "for i in xy: \n",
    "    x.append(i[0])\n",
    "    y.append(i[1])    "
   ]
  },
  {
   "cell_type": "code",
   "execution_count": 39,
   "metadata": {},
   "outputs": [],
   "source": [
    "n = 3\n",
    "vert = [(0.0, 0.0), (0.0, 1.0), (1.0, 1.0)]\n",
    "\n",
    "\n",
    "def get_single_point(t:float):\n",
    "    x = 0;\n",
    "    y = 0;\n",
    "    z = 0;\n",
    "    \n",
    "    for i in range(1, n+1):\n",
    "        x += np.math.factorial(n) / np.math.factorial(i) / np.math.factorial(n-i) * (1 - t)**(n-i) * t**i * vert[i-1][0]\n",
    "        y += np.math.factorial(n) / np.math.factorial(i) / np.math.factorial(n-i) * (1 - t)**(n-i) * t**i * vert[i-1][1]\n",
    "    \n",
    "    return (x,y)"
   ]
  },
  {
   "cell_type": "code",
   "execution_count": 41,
   "metadata": {},
   "outputs": [],
   "source": [
    "v = []\n",
    "for i in range(0, 50):\n",
    "    v.append(get_single_point(1/50*i))"
   ]
  },
  {
   "cell_type": "code",
   "execution_count": 42,
   "metadata": {},
   "outputs": [],
   "source": [
    "x = []\n",
    "y = []\n",
    "for i in v: \n",
    "    x.append(i[0])\n",
    "    y.append(i[1]) "
   ]
  },
  {
   "cell_type": "code",
   "execution_count": 50,
   "metadata": {},
   "outputs": [],
   "source": [
    "xy1 = [\n",
    "    (0, 0), (3.184e-05, 0.00233632), (0.00025344, 0.00909312), (0.00085104, 0.0198979), (0.00200704, 0.0343859), (0.0039, 0.0522), (0.00670464, 0.0729907), (0.0105918, 0.0964163), (0.0157286, 0.122143), (0.0222782, 0.149844), (0.0304, 0.1792), (0.0402494, 0.209901), (0.0519782, 0.241644), (0.0657342, 0.274132), (0.0816614, 0.307077), (0.0999, 0.3402), (0.120586, 0.373228), (0.143853, 0.405895), (0.169828, 0.437944), (0.198637, 0.469127), (0.2304, 0.4992), (0.265235, 0.52793), (0.303255, 0.55509), (0.344569, 0.580461), (0.389284, 0.603832), (0.4375, 0.625), (0.489316, 0.643768), (0.544825, 0.659949), (0.604119, 0.673362), (0.667283, 0.683834), (0.7344, 0.6912), (0.805549, 0.695303), (0.880804, 0.695992), (0.960236, 0.693127), (1.04391, 0.686572), (1.1319, 0.6762), (1.22425, 0.661893), (1.32103, 0.64354), (1.42228, 0.621036), (1.52806, 0.594285), (1.6384, 0.5632), (1.75335, 0.5277), (1.87294, 0.487711), (1.99722, 0.443168), (2.12619, 0.394015), (2.2599, 0.3402), (2.39836, 0.281682), (2.54159, 0.218426), (2.6896, 0.150405), (2.8424, 0.0776005), (3, 0)\n",
    "]\n",
    "\n",
    "xy2 = [\n",
    "    (0, 0), (8e-06, 0.001184), (6.4e-05, 0.004672), (0.000216, 0.010368), (0.000512, 0.018176), (0.001, 0.028), (0.001728, 0.039744), (0.002744, 0.053312), (0.004096, 0.068608), (0.005832, 0.085536), (0.008, 0.104), (0.010648, 0.123904), (0.013824, 0.145152), (0.017576, 0.167648), (0.021952, 0.191296), (0.027, 0.216), (0.032768, 0.241664), (0.039304, 0.268192), (0.046656, 0.295488), (0.054872, 0.323456), (0.064, 0.352), (0.074088, 0.381024), (0.085184, 0.410432), (0.097336, 0.440128), (0.110592, 0.470016), (0.125, 0.5), (0.140608, 0.529984), (0.157464, 0.559872), (0.175616, 0.589568), (0.195112, 0.618976), (0.216, 0.648), (0.238328, 0.676544), (0.262144, 0.704512), (0.287496, 0.731808), (0.314432, 0.758336), (0.343, 0.784), (0.373248, 0.808704), (0.405224, 0.832352), (0.438976, 0.854848), (0.474552, 0.876096), (0.512, 0.896), (0.551368, 0.914464), (0.592704, 0.931392), (0.636056, 0.946688), (0.681472, 0.960256), (0.729, 0.972), (0.778688, 0.981824), (0.830584, 0.989632), (0.884736, 0.995328), (0.941192, 0.998816), (1, 1)\n",
    "]\n",
    "\n",
    "x1 = []\n",
    "y1 = []\n",
    "\n",
    "x2 = []\n",
    "y2 = []\n",
    "for i in xy1: \n",
    "    x1.append(i[0])\n",
    "    y1.append(i[1])    \n",
    "    \n",
    "for i in xy2: \n",
    "    x2.append(i[0])\n",
    "    y2.append(i[1])    "
   ]
  },
  {
   "cell_type": "code",
   "execution_count": 52,
   "metadata": {},
   "outputs": [
    {
     "data": {
      "text/plain": [
       "[<matplotlib.lines.Line2D at 0x184e3e02e00>]"
      ]
     },
     "execution_count": 52,
     "metadata": {},
     "output_type": "execute_result"
    },
    {
     "data": {
      "image/png": "[encoded data removed]",
      "text/plain": [
       "<Figure size 640x480 with 1 Axes>"
      ]
     },
     "metadata": {},
     "output_type": "display_data"
    }
   ],
   "source": [
    "fig, ax = plt.subplots()\n",
    "\n",
    "lx = [\n",
    "    0.0,\n",
    "    0.0,\n",
    "    1.0, \n",
    "    3.0,\n",
    "]\n",
    "ly = [\n",
    "   0.0,\n",
    "    1.0, \n",
    "    1.0,\n",
    "    0.0,\n",
    "]\n",
    "\n",
    "tangex = [\n",
    "    0\n",
    "]\n",
    "tangey = [\n",
    "    0.25\n",
    "]\n",
    "\n",
    "# Start dots\n",
    "ax.plot(x1,y1)\n",
    "ax.plot(x2,y2)\n",
    "ax.plot(lx, ly, 'o')"
   ]
  },
  {
   "cell_type": "code",
   "execution_count": null,
   "metadata": {},
   "outputs": [],
   "source": []
  }
 ],
 "metadata": {
  "kernelspec": {
   "display_name": "Python 3",
   "language": "python",
   "name": "python3"
  },
  "language_info": {
   "codemirror_mode": {
    "name": "ipython",
    "version": 3
   },
   "file_extension": ".py",
   "mimetype": "text/x-python",
   "name": "python",
   "nbconvert_exporter": "python",
   "pygments_lexer": "ipython3",
   "version": "3.10.6"
  },
  "orig_nbformat": 4
 },
 "nbformat": 4,
 "nbformat_minor": 2
}
