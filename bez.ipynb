{
 "cells": [
  {
   "cell_type": "code",
   "execution_count": 513,
   "metadata": {},
   "outputs": [],
   "source": [
    "import matplotlib.pyplot as plt\n",
    "import numpy as np\n"
   ]
  },
  {
   "cell_type": "code",
   "execution_count": 514,
   "metadata": {},
   "outputs": [],
   "source": [
    "class dot:\n",
    "    def __init__(self, x:int, y:int):\n",
    "        self.x = x\n",
    "        self.y = y\n",
    "        \n",
    "    def __str__(self):\n",
    "        return f\"dot({self.x}, {self.y})\"\n",
    "        \n",
    "        \n",
    "def get_dots_lists(input_dots):\n",
    "    x_list = []\n",
    "    y_list = []\n",
    "    \n",
    "    for dot in input_dots:\n",
    "        x_list.append(dot.x)\n",
    "        y_list.append(dot.y)\n",
    "        \n",
    "    return x_list, y_list\n",
    "    \n"
   ]
  },
  {
   "cell_type": "code",
   "execution_count": 515,
   "metadata": {},
   "outputs": [],
   "source": [
    "enter_dots = [\n",
    "    dot(1, 1),\n",
    "    dot(2, 2)\n",
    "]\n",
    "\n",
    "move_dot = dot(1.7, 1.2)"
   ]
  },
  {
   "cell_type": "code",
   "execution_count": 516,
   "metadata": {},
   "outputs": [],
   "source": [
    "class line:\n",
    "    def __init__(self, k, b):\n",
    "        self.k = k\n",
    "        self.b = b\n",
    "    \n",
    "    def __init__(self, d1:dot, d2:dot):\n",
    "        self.k, self.b = self.cal_k_b(d1, d2)\n",
    "        \n",
    "    def y(self, x:float):\n",
    "        return self.k * x + self.b\n",
    "    \n",
    "    def len(self, x1:float, x2:float):\n",
    "        y1 = self.y(x1)\n",
    "        y2 = self.y(x2)\n",
    "        \n",
    "        return np.sqrt( (x2 - x1)**2 + (y2 - y1)**2 )\n",
    "        \n",
    "    def cal_k_b(self, d1:dot, d2:dot):\n",
    "        k = (d1.y - d2.y) / (d1.x - d2.x)\n",
    "        b = d2.y - d2.x * k\n",
    "        return k, b\n",
    "\n",
    "class final_line(line):\n",
    "    def __init__(self, d1, d2):\n",
    "        self.k, self.b = self.cal_k_b(d1, d2)\n",
    "        self.d1 = d1\n",
    "        self.d2 = d2\n",
    "    \n",
    "    def is_x_inside(self, x:float) ->bool:\n",
    "        if (((self.d1.x <= x)and(x <= self.d2.x)) or ((self.d2.x <= x)and(x <= self.d1.x))):\n",
    "            return True\n",
    "        else:\n",
    "            return False\n",
    "    \n",
    "    def is_y_inside(self, y:float) ->bool:\n",
    "        if (((self.d1.y <= y)and(y <= self.d2.y)) or ((self.d2.y <= y)and(y <= self.d1.y))):\n",
    "            return True\n",
    "        else:\n",
    "            return False\n",
    "    \n",
    "    def is_dot_inside(self, d:dot) -> bool:    \n",
    "        return (self.is_x_inside(d.x) and self.is_y_inside(d.y))\n",
    "    \n",
    "    def len(self):\n",
    "        return np.sqrt( (self.d1.x - self.d2.x)**2 + (self.d1.y - self.d2.y)**2 )\n",
    "    \n",
    "    def get_coo_by_per(self, per:float):\n",
    "        line_len = self.len()\n",
    "        \n",
    "        line_per = line_len * per\n",
    "        \n",
    "        x_len = line_per / (np.sqrt(1 + self.k**2))\n",
    "        \n",
    "        y_len = x_len * self.k\n",
    "        \n",
    "        \n",
    "        \n",
    "        #print(\"k:\",self.k)\n",
    "        \n",
    "        return dot(self.d1.x + x_len, self.d1.y + y_len)\n",
    "        \n",
    "        \n",
    "    "
   ]
  },
  {
   "cell_type": "code",
   "execution_count": 517,
   "metadata": {},
   "outputs": [],
   "source": [
    "class bez_1:\n",
    "    def __init__(self, sd:dot, ed:dot, vd:dot):\n",
    "        self.sd = sd\n",
    "        self.ed = ed\n",
    "        self.vd = vd\n",
    "        \n",
    "        self.fline_1 = final_line(sd, vd)\n",
    "        self.fline_2 = final_line(vd, ed)\n",
    "        \n",
    "    def get_bez_xy_step(self, step:int, ax):\n",
    "        \n",
    "        x = []\n",
    "        y = []\n",
    "        \n",
    "        for i in np.arange(0, 1.1, step):\n",
    "        #for i in range(0, 100, 10):\n",
    "            tem_d1 = self.fline_1.get_coo_by_per(i)\n",
    "            tem_d2 = self.fline_2.get_coo_by_per(i)\n",
    "            \n",
    "            tem_line = final_line(tem_d1, tem_d2)\n",
    "            \n",
    "            x.append(tem_line.get_coo_by_per(i).x)\n",
    "            y.append(tem_line.get_coo_by_per(i).y)\n",
    "            ax.plot([tem_line.d1.x, tem_line.d2.x], [tem_line.d1.y, tem_line.d2.y], color = \"green\")\n",
    "        \n",
    "        return x, y\n",
    "        "
   ]
  },
  {
   "cell_type": "code",
   "execution_count": 518,
   "metadata": {},
   "outputs": [
    {
     "data": {
      "text/plain": [
       "0.7280109889280517"
      ]
     },
     "execution_count": 518,
     "metadata": {},
     "output_type": "execute_result"
    },
    {
     "data": {
      "image/png": "[encoded data removed]",
      "text/plain": [
       "<Figure size 640x480 with 1 Axes>"
      ]
     },
     "metadata": {},
     "output_type": "display_data"
    }
   ],
   "source": [
    "fig, ax = plt.subplots()\n",
    "\n",
    "\n",
    "dots_x, dots_y = get_dots_lists(enter_dots)\n",
    "\n",
    "# Start dots\n",
    "ax.plot(dots_x, dots_y, 'o')\n",
    "\n",
    "# Moveable dot\n",
    "#ax.plot(move_dot.x, move_dot.y, 'o', color = \"orange\")\n",
    "\n",
    "\n",
    "# Test dots\n",
    "#test_dot_1 = get_linear_coo_by_percent(enter_dots[0], move_dot, 0.8)\n",
    "#ax.plot(test_dot_1.x, test_dot_1.y, 'o', color = \"purple\")\n",
    "\n",
    "fl1 = final_line(enter_dots[0], move_dot)\n",
    "fl2 = final_line(move_dot, enter_dots[1])\n",
    "\n",
    "pers = 0.5\n",
    "\n",
    "fl_dot1 = fl1.get_coo_by_per(pers)\n",
    "fl_dot2 = fl2.get_coo_by_per(pers)\n",
    "\n",
    "flm = final_line(fl_dot1, fl_dot2)\n",
    "fl_dotm = flm.get_coo_by_per(pers)\n",
    "\n",
    "#ax.plot(fl_dot1.x, fl_dot1.y, 'o', color = \"green\")\n",
    "#ax.plot(fl_dot2.x, fl_dot2.y, 'o', color = \"green\")\n",
    "#ax.plot(fl_dotm.x, fl_dotm.y, 'o', color = \"green\")\n",
    "\n",
    "#ax.plot([fl1.d1.x, fl1.d2.x], [fl1.d1.y, fl1.d2.y])\n",
    "#ax.plot([fl2.d1.x, fl2.d2.x], [fl2.d1.y, fl2.d2.y])\n",
    "#ax.plot([flm.d1.x, flm.d2.x], [flm.d1.y, flm.d2.y])\n",
    "\n",
    "#bez = bez_1(enter_dots[0], enter_dots[1], move_dot)\n",
    "#bez_x, bez_y = bez.get_bez_xy_step(0.10)\n",
    "#ax.plot(bez_x, bez_y)\n",
    "\n",
    "\n",
    "\n",
    "move_dot2 = dot(move_dot.x + 0.5, move_dot.y + 0.5)\n",
    "bez = bez_1(enter_dots[0], enter_dots[1], move_dot2)\n",
    "ax.plot(move_dot2.x, move_dot2.y, 'o', color = \"red\")\n",
    "bez_x, bez_y = bez.get_bez_xy_step(0.2,ax)\n",
    "ax.plot(bez_x, bez_y)\n",
    "\n",
    "\n",
    "ax.plot([bez.fline_1.d1.x, bez.fline_1.d2.x], [bez.fline_1.d1.y, bez.fline_1.d2.y])\n",
    "ax.plot([bez.fline_2.d1.x, bez.fline_2.d2.x], [bez.fline_2.d1.y, bez.fline_2.d2.y])\n",
    "\n",
    "\n",
    "str(fl1.d1), str(fl1.d2)\n",
    "fl1.len()"
   ]
  },
  {
   "cell_type": "code",
   "execution_count": 519,
   "metadata": {},
   "outputs": [
    {
     "name": "stdout",
     "output_type": "stream",
     "text": [
      "0.07280109889280517\n"
     ]
    }
   ],
   "source": [
    "print(np.sqrt(0.019999999999999993**2 + 0.06999999999999999**2))"
   ]
  },
  {
   "cell_type": "markdown",
   "metadata": {},
   "source": [
    "!!!!!!!!!!!\n"
   ]
  },
  {
   "cell_type": "code",
   "execution_count": null,
   "metadata": {},
   "outputs": [],
   "source": []
  }
 ],
 "metadata": {
  "kernelspec": {
   "display_name": "Python 3",
   "language": "python",
   "name": "python3"
  },
  "language_info": {
   "codemirror_mode": {
    "name": "ipython",
    "version": 3
   },
   "file_extension": ".py",
   "mimetype": "text/x-python",
   "name": "python",
   "nbconvert_exporter": "python",
   "pygments_lexer": "ipython3",
   "version": "3.10.6"
  },
  "orig_nbformat": 4
 },
 "nbformat": 4,
 "nbformat_minor": 2
}
